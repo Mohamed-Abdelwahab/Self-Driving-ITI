{
 "metadata": {
  "language_info": {
   "codemirror_mode": {
    "name": "ipython",
    "version": 3
   },
   "file_extension": ".py",
   "mimetype": "text/x-python",
   "name": "python",
   "nbconvert_exporter": "python",
   "pygments_lexer": "ipython3",
   "version": "3.8.5"
  },
  "orig_nbformat": 2,
  "kernelspec": {
   "name": "python3",
   "display_name": "Python 3",
   "language": "python"
  }
 },
 "nbformat": 4,
 "nbformat_minor": 2,
 "cells": [
  {
   "cell_type": "code",
   "execution_count": 7,
   "metadata": {},
   "outputs": [],
   "source": [
    "# Q1\n",
    "\n",
    "def calc_year():\n",
    "    try:\n",
    "        year = int(input(\"please Enter Your Age\"))\n",
    "        x = 2021 - year\n",
    "        print(f\"You are born in {x}.\")\n",
    "    except:\n",
    "        print('Invalid file name')\n",
    "    "
   ]
  },
  {
   "cell_type": "code",
   "execution_count": 8,
   "metadata": {},
   "outputs": [
    {
     "output_type": "stream",
     "name": "stdout",
     "text": [
      "You are born in 1996.\n"
     ]
    }
   ],
   "source": [
    "calc_year()"
   ]
  },
  {
   "cell_type": "code",
   "execution_count": 9,
   "metadata": {},
   "outputs": [
    {
     "output_type": "stream",
     "name": "stdout",
     "text": [
      "The sum of Natural Numbers from 1 to 5 = 15\nThe average of Natural Numbers from 1 to 5 = 3.0\n"
     ]
    }
   ],
   "source": [
    "#Q2\n",
    "def sum_avg_calc():\n",
    "    try:\n",
    "        x = int(input(\"please Enter any number\"))\n",
    "        \n",
    "        l = range(1,x+1)\n",
    "        s = sum(l)\n",
    "        avg = s / len(l)\n",
    "        \n",
    "        print(f\"The sum of Natural Numbers from 1 to {x} = {s}\")\n",
    "        print(f\"The average of Natural Numbers from 1 to {x} = {avg}\")\n",
    "    except:\n",
    "        print('Invalid file name')\n",
    "\n",
    "sum_avg_calc()"
   ]
  },
  {
   "cell_type": "code",
   "execution_count": 6,
   "metadata": {},
   "outputs": [
    {
     "output_type": "stream",
     "name": "stdout",
     "text": [
      "        * \n      * * * \n    * * * * * \n  * * * * * * * \n* * * * * * * * * \n"
     ]
    }
   ],
   "source": [
    "#Q3\n",
    "rows = int(input(\"Enter number of rows: \"))\n",
    "\n",
    "k = 0\n",
    "\n",
    "for i in range(1, rows+1):\n",
    "    for space in range(1, (rows-i)+1):\n",
    "        print(end=\"  \")\n",
    "   \n",
    "    while k!=(2*i-1):\n",
    "        print(\"* \", end=\"\")\n",
    "        k += 1\n",
    "   \n",
    "    k = 0\n",
    "    print()\n",
    "\n"
   ]
  },
  {
   "cell_type": "code",
   "execution_count": 8,
   "metadata": {},
   "outputs": [],
   "source": [
    "# Q4\n",
    "def even_odd_check():\n",
    "    while True :\n",
    "    \n",
    "        q = input(\" Enter 'q' for exit or any char to go on.\")\n",
    "    \n",
    "        if q == 'q':\n",
    "            break\n",
    "    \n",
    "        x = int(input(\"please Enter any number\"))\n",
    "    \n",
    "        if x % 2 == 0 :\n",
    "            print(f\"{x} is an even number\")\n",
    "        else:\n",
    "            print(f\"{x} is an odd number\")\n",
    "\n",
    "even_odd_check()\n"
   ]
  },
  {
   "cell_type": "code",
   "execution_count": 9,
   "metadata": {},
   "outputs": [
    {
     "output_type": "stream",
     "name": "stdout",
     "text": [
      "New String after removing all the vowels: mhmd\n"
     ]
    }
   ],
   "source": [
    "# Q5\n",
    "def remove_vowels():\n",
    "    \n",
    "    while True :\n",
    "\n",
    "        try:\n",
    "    \n",
    "            q = input(\" Enter 'q' for exit or any char to go on.\")\n",
    "            if q == 'q':\n",
    "                break\n",
    "            s = input(\" Enter any string to remove vowels from it\")\n",
    "            res_str = ''.join([s[i] for i in range(len(s)) if s[i] not in ['a','e','o','u','i']])\n",
    "            print (\"New String after removing all the vowels: \" + res_str) \n",
    "        except:\n",
    "            print('Invalid file name')\n",
    "\n",
    "remove_vowels()"
   ]
  },
  {
   "cell_type": "code",
   "execution_count": 10,
   "metadata": {},
   "outputs": [],
   "source": [
    "# Q6\n",
    "l = [1,2,5,6,3]\n",
    "f=open('file.txt','w')\n",
    "for i in l:\n",
    "    f.write(str(i)+'\\n')\n",
    "f.close()"
   ]
  },
  {
   "cell_type": "code",
   "execution_count": 12,
   "metadata": {},
   "outputs": [
    {
     "output_type": "stream",
     "name": "stdout",
     "text": [
      "Sum of elements of the list = 22\n"
     ]
    }
   ],
   "source": [
    "# Q7\n",
    "def sum_of_list(l):\n",
    "    \n",
    "    s = 0\n",
    "    for i in range(len(l)):\n",
    "        s += l[i]\n",
    "        \n",
    "    return s \n",
    "\n",
    "l = [2,3,4,6,7]\n",
    "\n",
    "print(f\"Sum of elements of the list = {sum_of_list(l)}\")"
   ]
  },
  {
   "cell_type": "code",
   "execution_count": 14,
   "metadata": {},
   "outputs": [
    {
     "output_type": "stream",
     "name": "stdout",
     "text": [
      "[2, 4, 6, 22, 40]\n"
     ]
    }
   ],
   "source": [
    "# Q8\n",
    "def even_of_list(l):\n",
    "    \n",
    "    s = []\n",
    "    for i in l:\n",
    "        if i % 2 == 0:\n",
    "            s.append(i)\n",
    "        \n",
    "    return s\n",
    "\n",
    "print(even_of_list([1,2,3,4,6,22,40]))"
   ]
  },
  {
   "cell_type": "code",
   "execution_count": 15,
   "metadata": {},
   "outputs": [
    {
     "output_type": "stream",
     "name": "stdout",
     "text": [
      "MOHAMED ABDELWAHAB\n"
     ]
    }
   ],
   "source": [
    "# Q9\n",
    "class MyClass():\n",
    "    def __init__(self):\n",
    "        self.str = None\n",
    "    def get_String(self,s):\n",
    "        self.str = s\n",
    "    def print_string(self):\n",
    "        print(self.str.upper())\n",
    "\n",
    "s = MyClass ()\n",
    "s.get_String(\"mohamed abdelwahab\")\n",
    "s.print_string()"
   ]
  },
  {
   "cell_type": "code",
   "execution_count": 16,
   "metadata": {},
   "outputs": [],
   "source": [
    "# Q10\n",
    "class Vechile():\n",
    "    def __init__(self):\n",
    "        self.t = None\n",
    "        self.d = None\n",
    "    def cacl_speed(self,d,t):\n",
    "        self.t = t\n",
    "        self.d = d \n",
    "        \n",
    "        speed = self.d / self.t\n",
    "        return speed"
   ]
  },
  {
   "cell_type": "code",
   "execution_count": 19,
   "metadata": {},
   "outputs": [
    {
     "output_type": "stream",
     "name": "stdout",
     "text": [
      "Vechile speed = 60.0 Km/h\n"
     ]
    }
   ],
   "source": [
    "v = Vechile()\n",
    "speed = v.cacl_speed(120,2)\n",
    "print(f\"Vechile speed = {speed} Km/h\")"
   ]
  },
  {
   "cell_type": "code",
   "execution_count": 23,
   "metadata": {},
   "outputs": [
    {
     "output_type": "execute_result",
     "data": {
      "text/plain": [
       "array([[ 2,  3,  4],\n",
       "       [ 5,  6,  7],\n",
       "       [ 8,  9, 10]])"
      ]
     },
     "metadata": {},
     "execution_count": 23
    }
   ],
   "source": [
    "# Q11\n",
    "import numpy as np\n",
    "y = np.arange(2,11)\n",
    "y.reshape((3,3))"
   ]
  },
  {
   "cell_type": "code",
   "execution_count": 28,
   "metadata": {},
   "outputs": [
    {
     "output_type": "stream",
     "name": "stdout",
     "text": [
      "Original array: [-1 -4  0  2  3  4  5 -6] \nNew array: [0 0 0 2 3 4 5 0] \n"
     ]
    }
   ],
   "source": [
    "# Q12\n",
    "\n",
    "x = np.array([-1, -4, 0, 2, 3, 4,5,-6])\n",
    "  \n",
    "\n",
    "print(f\"Original array: {x} \")\n",
    "  \n",
    "\n",
    "x[x<0] = 0\n",
    "  \n",
    "\n",
    "print(f\"New array: {x} \")\n"
   ]
  },
  {
   "cell_type": "code",
   "execution_count": 30,
   "metadata": {},
   "outputs": [
    {
     "output_type": "stream",
     "name": "stdout",
     "text": [
      "Original array: [ 70  50  20  30 -11  60  50  40] \nAfter partitioning on 4 the position: [ 70  50  20  30 -11  60  50  40] \n[-11  30  20  40  50  50  60  70]\n"
     ]
    }
   ],
   "source": [
    "# Q13\n",
    "n_arr = np.array([70, 50, 20, 30, -11, 60, 50, 40])\n",
    "print(f\"Original array: {n_arr} \")\n",
    "print(f\"After partitioning on 4 the position: {n_arr} \")\n",
    "print(np.partition(n_arr, 4))"
   ]
  },
  {
   "cell_type": "code",
   "execution_count": 4,
   "metadata": {},
   "outputs": [
    {
     "output_type": "stream",
     "name": "stdout",
     "text": [
      "Maximum is 90.0 \nMinimum is -20.0\n"
     ]
    }
   ],
   "source": [
    "# Q14\n",
    "largest = None\n",
    "smallest = None\n",
    "while True:\n",
    "    inp = input(\"Enter a number: \")\n",
    "    if inp == \"done\" : break\n",
    "    try:\n",
    "        num = float(inp)\n",
    "    except ValueError: \n",
    "        print (\"Invalid input\")\n",
    "    else: \n",
    "        \n",
    "        if smallest is None: \n",
    "            smallest = num\n",
    "            largest = num\n",
    "        elif num < smallest:\n",
    "            smallest = num\n",
    "        elif num > largest:\n",
    "            largest = num\n",
    "\n",
    "print (f\"Maximum is {largest } \")\n",
    "print (f\"Minimum is {smallest}\")"
   ]
  },
  {
   "cell_type": "code",
   "execution_count": 3,
   "metadata": {},
   "outputs": [
    {
     "output_type": "stream",
     "name": "stdout",
     "text": [
      "RED\n\nGREEN\n\nWHITE\n\nBLACK\n\nPINK\n\nYELLOW\n\n"
     ]
    }
   ],
   "source": [
    "#Q15\n",
    "file_nm = input(\"Enter file name: \")\n",
    "try:\n",
    " f = open(file_nm,'r')\n",
    " for line in f:\n",
    "    f = line.upper()\n",
    "    print(f)\n",
    "except:\n",
    " print('Invalid file name')\n",
    " quit()\n"
   ]
  },
  {
   "cell_type": "code",
   "execution_count": 6,
   "metadata": {},
   "outputs": [
    {
     "output_type": "stream",
     "name": "stdout",
     "text": [
      "stephen.marquard@uct.ac.za\nlouis@media.berkeley.edu\nzqian@umich.edu\nrjlowe@iupui.edu\nzqian@umich.edu\nrjlowe@iupui.edu\ncwen@iupui.edu\ncwen@iupui.edu\ngsilver@umich.edu\ngsilver@umich.edu\nzqian@umich.edu\ngsilver@umich.edu\nwagnermr@iupui.edu\nzqian@umich.edu\nantranig@caret.cam.ac.uk\ngopal.ramasammycook@gmail.com\ndavid.horwitz@uct.ac.za\ndavid.horwitz@uct.ac.za\ndavid.horwitz@uct.ac.za\ndavid.horwitz@uct.ac.za\nstephen.marquard@uct.ac.za\nlouis@media.berkeley.edu\nlouis@media.berkeley.edu\nray@media.berkeley.edu\ncwen@iupui.edu\ncwen@iupui.edu\ncwen@iupui.edu\nThere were27lines in the file with From as the first word\n"
     ]
    }
   ],
   "source": [
    "# Q16\n",
    "fname = input(\"Etern file name: \")\n",
    "fh = open(fname)\n",
    "count = 0\n",
    "for line in fh:\n",
    "    if not line.startswith('From'):\n",
    "        continue\n",
    "    if line.startswith('From:'):\n",
    "        continue\n",
    "    else:\n",
    "        line = line.split()\n",
    "        line = line[1]\n",
    "        print(line)\n",
    "    count += 1\n",
    "print(f\"There were{count}lines in the file with From as the first word\")"
   ]
  },
  {
   "cell_type": "code",
   "execution_count": null,
   "metadata": {},
   "outputs": [],
   "source": []
  }
 ]
}