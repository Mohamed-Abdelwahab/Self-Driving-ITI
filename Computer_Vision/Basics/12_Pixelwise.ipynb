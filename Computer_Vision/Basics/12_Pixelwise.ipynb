{
 "cells": [
  {
   "cell_type": "markdown",
   "metadata": {},
   "source": [
    "# Lighting again\n",
    "\n",
    "## Task\n",
    "\n",
    "In this lab we need to create a black image with one vertical and one horizontal lines that appear in random positions each frame with random color\n",
    "\n",
    "## Output should be like this\n",
    "![Video](Files/12_output.gif)\n",
    "\n",
    "## Criteria\n",
    "\n",
    "- Image width must be higher than height.\n",
    "- Image color must be black.\n",
    "- The 2 lines must:\n",
    "    - Have random color for each one.\n",
    "    - Appear independant of each other.\n",
    "\n",
    "## Grade\n",
    "10"
   ]
  },
  {
   "cell_type": "code",
   "execution_count": 1,
   "metadata": {},
   "outputs": [],
   "source": [
    "import cv2\n",
    "import numpy as np\n",
    "from matplotlib import pyplot as plt"
   ]
  },
  {
   "cell_type": "code",
   "execution_count": 13,
   "metadata": {},
   "outputs": [],
   "source": [
    "import cv2\n",
    "\n",
    "image = np.zeros((500, 500,3), np.uint8)\n",
    "\n",
    "def nothing(x):\n",
    "    pass\n",
    "\n",
    "cv2.namedWindow('Image')\n",
    "\n",
    "cv2.createTrackbar('row', 'Image', 0, image.shape[0]-1, nothing)\n",
    "cv2.createTrackbar('r1', 'Image', 0, 255, nothing)\n",
    "cv2.createTrackbar('g1', 'Image', 0, 255, nothing)\n",
    "cv2.createTrackbar('b1', 'Image', 0, 255, nothing)\n",
    "\n",
    "cv2.createTrackbar('col', 'Image', 0, image.shape[1]-1, nothing)\n",
    "cv2.createTrackbar('r2', 'Image', 0, 255, nothing)\n",
    "cv2.createTrackbar('g2', 'Image', 0, 255, nothing)\n",
    "cv2.createTrackbar('b2', 'Image', 0, 255, nothing)\n",
    "\n",
    "i =0\n",
    "\n",
    "while 1:\n",
    "    \n",
    "    image = np.zeros((500, 500,3), np.uint8)\n",
    "    \n",
    "    row = cv2.getTrackbarPos('row', 'Image')\n",
    "    col = cv2.getTrackbarPos('col', 'Image')\n",
    "    r1 = cv2.getTrackbarPos('r1', 'Image')\n",
    "    g1 = cv2.getTrackbarPos('g1', 'Image')\n",
    "    b1 = cv2.getTrackbarPos('b1', 'Image')\n",
    "    r2 = cv2.getTrackbarPos('r2', 'Image')\n",
    "    g2 = cv2.getTrackbarPos('g2', 'Image')\n",
    "    b2 = cv2.getTrackbarPos('b2', 'Image')\n",
    "    \n",
    "    #image = np.zeros((500, 500), np.uint8)\n",
    "    \n",
    "    image[np.random.randint(0,255),:,:] = [255,0,0]\n",
    "    #img3[10,:,0] = [np.random.randint(0,255),np.random.randint(0,255),np.random.randint(0,255)]\n",
    "    \n",
    "    image[:, np.random.randint(0,255),:] = [np.random.randint(0,255),np.random.randint(0,255),np.random.randint(0,255)]\n",
    "\n",
    "    #image[x, x] = 255\n",
    "\n",
    "    cv2.imshow('Image', image)\n",
    "    k = cv2.waitKey(100)\n",
    "    if k == 27:\n",
    "        break\n",
    "    elif k == ord(\"q\"):\n",
    "        break\n",
    "    elif i <200:\n",
    "        i += 1\n",
    "        cv2.imwrite(f\"Images2/imag{i}.jpg\",image)\n",
    "\n",
    "\n",
    "cv2.destroyAllWindows()"
   ]
  },
  {
   "cell_type": "code",
   "execution_count": 3,
   "metadata": {},
   "outputs": [
    {
     "data": {
      "text/plain": [
       "[59, 64, 176]"
      ]
     },
     "execution_count": 3,
     "metadata": {},
     "output_type": "execute_result"
    }
   ],
   "source": [
    "[np.random.randint(0,255),np.random.randint(0,255),np.random.randint(0,255)]"
   ]
  },
  {
   "cell_type": "code",
   "execution_count": 4,
   "metadata": {},
   "outputs": [
    {
     "data": {
      "text/plain": [
       "int"
      ]
     },
     "execution_count": 4,
     "metadata": {},
     "output_type": "execute_result"
    }
   ],
   "source": [
    "x = [np.random.randint(0,255),np.random.randint(0,255),np.random.randint(0,255)] \n",
    "\n",
    "type(x[0])"
   ]
  },
  {
   "cell_type": "code",
   "execution_count": null,
   "metadata": {},
   "outputs": [],
   "source": []
  }
 ],
 "metadata": {
  "kernelspec": {
   "display_name": "Python 3.8.8 64-bit ('base': conda)",
   "language": "python",
   "name": "python388jvsc74a57bd0b724d4bc6e1f7098dd7c5885ea26ad3779e4434076fb32f75bfbeb3a2585b78e"
  },
  "language_info": {
   "codemirror_mode": {
    "name": "ipython",
    "version": 3
   },
   "file_extension": ".py",
   "mimetype": "text/x-python",
   "name": "python",
   "nbconvert_exporter": "python",
   "pygments_lexer": "ipython3",
   "version": "3.8.8"
  }
 },
 "nbformat": 4,
 "nbformat_minor": 4
}
