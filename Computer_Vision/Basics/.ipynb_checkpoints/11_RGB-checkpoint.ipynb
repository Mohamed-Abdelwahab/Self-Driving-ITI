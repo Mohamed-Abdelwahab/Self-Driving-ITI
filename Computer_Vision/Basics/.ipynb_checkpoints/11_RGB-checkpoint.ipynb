{
 "cells": [
  {
   "cell_type": "markdown",
   "metadata": {},
   "source": [
    "# Playing around\n",
    "\n",
    "## Task\n",
    "\n",
    "Write a script to generate this random colors video for 10 seconds.\n",
    "\n",
    "## Output\n",
    "\n",
    "![this video](Files/11_output.gif)\n",
    "\n",
    "## Criteria\n",
    "- Must use opencv for saving the video.\n",
    "- Colors must be random in the three (R, G, and B) channels.\n",
    "- View video frames while the code is running.\n",
    "\n",
    "## Grade\n",
    "10"
   ]
  },
  {
   "cell_type": "code",
   "execution_count": 1,
   "metadata": {},
   "outputs": [],
   "source": [
    "import cv2\n",
    "import numpy as np\n",
    "from matplotlib import pyplot as plt"
   ]
  },
  {
   "cell_type": "code",
   "execution_count": 5,
   "metadata": {},
   "outputs": [],
   "source": [
    "def nothing(x):\n",
    "    pass\n",
    "\n",
    "cv2.namedWindow(\"image\")\n",
    "\n",
    "cv2.createTrackbar('r','image',0,255,nothing)\n",
    "cv2.createTrackbar('g','image',0,255,nothing)\n",
    "cv2.createTrackbar('b','image',0,255,nothing)\n",
    "\n",
    "\n",
    "img2 = np.zeros((500,500,3),np.uint8)\n",
    "i =0\n",
    "while 1 :\n",
    "    r = cv2.getTrackbarPos('r','image')\n",
    "    g = cv2.getTrackbarPos('g','image')\n",
    "    b = cv2.getTrackbarPos('b','image')\n",
    "    \n",
    "    img2[:,:,0] = np.random.randint(0,255)\n",
    "    img2[:,:,1] = np.random.randint(0,255)\n",
    "    img2[:,:,2] = np.random.randint(0,255)\n",
    "    \n",
    "    #img2[:] = [b,g,r] another method\n",
    "    cv2.imshow(\"image\",img2)\n",
    "    k = cv2.waitKey(100)\n",
    "    if k == ord(\"q\"):\n",
    "        break\n",
    "    elif i <200:\n",
    "        i += 1\n",
    "        cv2.imwrite(f\"Images/imag{i}.jpg\",img2)\n",
    "        \n",
    "cv2.destroyAllWindows() "
   ]
  },
  {
   "cell_type": "code",
   "execution_count": 6,
   "metadata": {},
   "outputs": [],
   "source": [
    "import glob\n",
    " \n",
    "img_array = []\n",
    "for filename in glob.glob('Images/*.jpg'):\n",
    "    img = cv2.imread(filename)\n",
    "    height, width, layers = img.shape\n",
    "    size = (width,height)\n",
    "    img_array.append(img)\n",
    " \n",
    " \n",
    "out = cv2.VideoWriter('project.mp4',cv2.VideoWriter_fourcc(*'DIVX'), 15, size)\n",
    " \n",
    "for i in range(len(img_array)):\n",
    "    out.write(img_array[i])\n",
    "out.release()"
   ]
  },
  {
   "cell_type": "code",
   "execution_count": null,
   "metadata": {},
   "outputs": [],
   "source": []
  }
 ],
 "metadata": {
  "kernelspec": {
   "display_name": "Python 3.8.8 64-bit ('base': conda)",
   "language": "python",
   "name": "python388jvsc74a57bd0b724d4bc6e1f7098dd7c5885ea26ad3779e4434076fb32f75bfbeb3a2585b78e"
  },
  "language_info": {
   "codemirror_mode": {
    "name": "ipython",
    "version": 3
   },
   "file_extension": ".py",
   "mimetype": "text/x-python",
   "name": "python",
   "nbconvert_exporter": "python",
   "pygments_lexer": "ipython3",
   "version": "3.8.8"
  }
 },
 "nbformat": 4,
 "nbformat_minor": 4
}
