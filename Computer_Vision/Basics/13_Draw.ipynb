{
 "cells": [
  {
   "cell_type": "markdown",
   "id": "464a49aa",
   "metadata": {},
   "source": [
    "# Draw with you mouse !\n",
    "\n",
    "---\n",
    "\n",
    "## Task\n",
    "\n",
    "We need to get familier with using mouse events in opencv.\n",
    "\n",
    "## Criteria\n",
    "\n",
    "Use 5 diffrent mouse events `with mouse click in the center except for the text` to draw:\n",
    "- 10*10 green square.\n",
    "- 20*10 red rectangle.\n",
    "- 15 in raduis solid blue circle.\n",
    "- half-circle arch in yellow.\n",
    "- Write your name as a text in any color.\n",
    "\n",
    "---\n",
    "\n",
    "## Grade\n",
    "\n",
    "- 10\n",
    "  - 8 for the correct answer.\n",
    "  - 2 for finishing before the end of the lab.\n",
    "\n",
    "---\n"
   ]
  },
  {
   "cell_type": "code",
   "execution_count": 19,
   "id": "aa5ba25a",
   "metadata": {},
   "outputs": [],
   "source": [
    "import numpy as np\n",
    "import cv2 \n",
    "\n",
    "# mouse callback function\n",
    "def draw_circle(event,x,y,flags,param):\n",
    "    if event == cv2.EVENT_LBUTTONDOWN:\n",
    "        cv2.rectangle(img, (x,y), (x+10,y-10), (0,255,0), -1)\n",
    "        \n",
    "    if event == cv2.EVENT_LBUTTONUP:\n",
    "        \n",
    "        cv2.rectangle(img, (x,y), (x+20,y-10), (0,0,255), -1)\n",
    "    if event == cv2.EVENT_LBUTTONDBLCLK:\n",
    "        cv2.circle(img,(x,y),10,(255,0, 0),-1)\n",
    "    if event == cv2.EVENT_RBUTTONDOWN:\n",
    "        \n",
    "        cv2.circle(img, (x,y), 10, (0,0, 255), -1)\n",
    "    if event == cv2.EVENT_RBUTTONUP:\n",
    "        \n",
    "        cv2.ellipse(img,(x,y),(15,15),270,90,270,(0,255,255),2)\n",
    "        \n",
    "    if event == cv2.EVENT_MBUTTONUP:\n",
    "        font = cv2.FONT_HERSHEY_SIMPLEX\n",
    "        cv2.putText(img, 'wahab', (2, 100), fcv2.ellipse(img,(x,y),(15,15),270,90,270,(0,255,255),2)ont, 4, (0, 255, 0), 6, cv2.FILLED)\n",
    "    \n",
    "\n",
    "# Create a black image, a window and bind the function to window\n",
    "img = np.zeros((512,512,3), np.uint8)\n",
    "\n",
    "cv2.namedWindow('image',cv2.WINDOW_NORMAL)\n",
    "cv2.setMouseCallback('image', draw_circle)\n",
    "\n",
    "while(1):\n",
    "    cv2.imshow('image',img)\n",
    "    if cv2.waitKey(20) == ord('q'):\n",
    "        break\n",
    "\n",
    "cv2.destroyAllWindows()"
   ]
  },
  {
   "cell_type": "code",
   "execution_count": null,
   "id": "3942f003",
   "metadata": {},
   "outputs": [],
   "source": []
  },
  {
   "cell_type": "code",
   "execution_count": null,
   "id": "19e30cb1",
   "metadata": {},
   "outputs": [],
   "source": []
  },
  {
   "cell_type": "code",
   "execution_count": null,
   "id": "9ba98969",
   "metadata": {},
   "outputs": [],
   "source": []
  }
 ],
 "metadata": {
  "kernelspec": {
   "display_name": "Python 3.8.8 64-bit ('base': conda)",
   "language": "python",
   "name": "python388jvsc74a57bd0b724d4bc6e1f7098dd7c5885ea26ad3779e4434076fb32f75bfbeb3a2585b78e"
  },
  "language_info": {
   "codemirror_mode": {
    "name": "ipython",
    "version": 3
   },
   "file_extension": ".py",
   "mimetype": "text/x-python",
   "name": "python",
   "nbconvert_exporter": "python",
   "pygments_lexer": "ipython3",
   "version": "3.8.8"
  }
 },
 "nbformat": 4,
 "nbformat_minor": 5
}
